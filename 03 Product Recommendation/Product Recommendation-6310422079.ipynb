{
 "cells": [
  {
   "cell_type": "code",
   "execution_count": 88,
   "metadata": {
    "colab": {
     "base_uri": "https://localhost:8080/",
     "height": 313
    },
    "colab_type": "code",
    "executionInfo": {
     "elapsed": 7974,
     "status": "ok",
     "timestamp": 1543651701636,
     "user": {
      "displayName": "Thanachart Ritbumroong",
      "photoUrl": "",
      "userId": "18414212507793256437"
     },
     "user_tz": -420
    },
    "id": "qU2LWxFOaXc1",
    "outputId": "48238866-4a78-49cd-f74d-8a104d66eaf1"
   },
   "outputs": [
    {
     "name": "stdout",
     "output_type": "stream",
     "text": [
      "Requirement already satisfied: mlxtend in c:\\users\\asus\\appdata\\local\\programs\\python\\python39\\lib\\site-packages (0.19.0)\n",
      "Requirement already satisfied: scikit-learn>=0.20.3 in c:\\users\\asus\\appdata\\local\\programs\\python\\python39\\lib\\site-packages (from mlxtend) (1.0)\n",
      "Requirement already satisfied: joblib>=0.13.2 in c:\\users\\asus\\appdata\\local\\programs\\python\\python39\\lib\\site-packages (from mlxtend) (1.0.1)\n",
      "Requirement already satisfied: scipy>=1.2.1 in c:\\users\\asus\\appdata\\local\\programs\\python\\python39\\lib\\site-packages (from mlxtend) (1.7.1)\n",
      "Requirement already satisfied: matplotlib>=3.0.0 in c:\\users\\asus\\appdata\\local\\programs\\python\\python39\\lib\\site-packages (from mlxtend) (3.4.3)\n",
      "Requirement already satisfied: pandas>=0.24.2 in c:\\users\\asus\\appdata\\local\\programs\\python\\python39\\lib\\site-packages (from mlxtend) (1.3.3)\n",
      "Requirement already satisfied: numpy>=1.16.2 in c:\\users\\asus\\appdata\\local\\programs\\python\\python39\\lib\\site-packages (from mlxtend) (1.19.5)\n",
      "Requirement already satisfied: setuptools in c:\\users\\asus\\appdata\\local\\programs\\python\\python39\\lib\\site-packages (from mlxtend) (56.0.0)\n",
      "Requirement already satisfied: cycler>=0.10 in c:\\users\\asus\\appdata\\local\\programs\\python\\python39\\lib\\site-packages (from matplotlib>=3.0.0->mlxtend) (0.10.0)\n",
      "Requirement already satisfied: python-dateutil>=2.7 in c:\\users\\asus\\appdata\\local\\programs\\python\\python39\\lib\\site-packages (from matplotlib>=3.0.0->mlxtend) (2.8.2)\n",
      "Requirement already satisfied: kiwisolver>=1.0.1 in c:\\users\\asus\\appdata\\local\\programs\\python\\python39\\lib\\site-packages (from matplotlib>=3.0.0->mlxtend) (1.3.2)\n",
      "Requirement already satisfied: pillow>=6.2.0 in c:\\users\\asus\\appdata\\local\\programs\\python\\python39\\lib\\site-packages (from matplotlib>=3.0.0->mlxtend) (8.3.2)\n",
      "Requirement already satisfied: pyparsing>=2.2.1 in c:\\users\\asus\\appdata\\local\\programs\\python\\python39\\lib\\site-packages (from matplotlib>=3.0.0->mlxtend) (2.4.7)\n",
      "Requirement already satisfied: six in c:\\users\\asus\\appdata\\local\\programs\\python\\python39\\lib\\site-packages (from cycler>=0.10->matplotlib>=3.0.0->mlxtend) (1.16.0)\n",
      "Requirement already satisfied: pytz>=2017.3 in c:\\users\\asus\\appdata\\local\\programs\\python\\python39\\lib\\site-packages (from pandas>=0.24.2->mlxtend) (2021.3)\n",
      "Requirement already satisfied: threadpoolctl>=2.0.0 in c:\\users\\asus\\appdata\\local\\programs\\python\\python39\\lib\\site-packages (from scikit-learn>=0.20.3->mlxtend) (3.0.0)\n"
     ]
    },
    {
     "name": "stderr",
     "output_type": "stream",
     "text": [
      "WARNING: You are using pip version 21.1.1; however, version 21.3 is available.\n",
      "You should consider upgrading via the 'c:\\users\\asus\\appdata\\local\\programs\\python\\python39\\python.exe -m pip install --upgrade pip' command.\n"
     ]
    }
   ],
   "source": [
    "!pip install mlxtend"
   ]
  },
  {
   "cell_type": "code",
   "execution_count": 89,
   "metadata": {
    "colab": {},
    "colab_type": "code",
    "id": "7gAwynAjakpt"
   },
   "outputs": [],
   "source": [
    "import pandas as pd\n",
    "\n",
    "df = pd.read_csv('CustomerPreference.csv')"
   ]
  },
  {
   "cell_type": "code",
   "execution_count": 90,
   "metadata": {
    "colab": {
     "base_uri": "https://localhost:8080/",
     "height": 203
    },
    "colab_type": "code",
    "executionInfo": {
     "elapsed": 1297,
     "status": "ok",
     "timestamp": 1543651715407,
     "user": {
      "displayName": "Thanachart Ritbumroong",
      "photoUrl": "",
      "userId": "18414212507793256437"
     },
     "user_tz": -420
    },
    "id": "QLt5WszRz8Pn",
    "outputId": "5e19af6c-5445-42e7-a365-feb361d0204e"
   },
   "outputs": [
    {
     "data": {
      "text/html": [
       "<div>\n",
       "<style scoped>\n",
       "    .dataframe tbody tr th:only-of-type {\n",
       "        vertical-align: middle;\n",
       "    }\n",
       "\n",
       "    .dataframe tbody tr th {\n",
       "        vertical-align: top;\n",
       "    }\n",
       "\n",
       "    .dataframe thead th {\n",
       "        text-align: right;\n",
       "    }\n",
       "</style>\n",
       "<table border=\"1\" class=\"dataframe\">\n",
       "  <thead>\n",
       "    <tr style=\"text-align: right;\">\n",
       "      <th></th>\n",
       "      <th>Timestamp</th>\n",
       "      <th>playstation5</th>\n",
       "      <th>เครื่องทำขนมปัง</th>\n",
       "      <th>Ergonomic Wrist Rest</th>\n",
       "      <th>เครื่องอบผ้า</th>\n",
       "      <th>เครื่องชงกาแฟแคปซูล</th>\n",
       "      <th>เก้าอี้ LA-Z-Boy</th>\n",
       "      <th>เครื่องให้อาหารสัตว์อัตโนมัติ</th>\n",
       "      <th>บัตตาเลี่ยน</th>\n",
       "      <th>แก้วเก็บความเย็น</th>\n",
       "      <th>...</th>\n",
       "      <th>การ์ดจอ RTX 3080</th>\n",
       "      <th>ขนมจีนน้ำยาปู</th>\n",
       "      <th>Salmon Sashimi</th>\n",
       "      <th>จักรยานเสือหมอบ</th>\n",
       "      <th>ไฟแต่งห้องมินิมอล</th>\n",
       "      <th>External Harddisk</th>\n",
       "      <th>หม้อทอดไร้น้ํามัน</th>\n",
       "      <th>airpods</th>\n",
       "      <th>ยาดม</th>\n",
       "      <th>ไฟส่องหน้าไลฟ์สด</th>\n",
       "    </tr>\n",
       "  </thead>\n",
       "  <tbody>\n",
       "    <tr>\n",
       "      <th>0</th>\n",
       "      <td>10/17/2021 17:29:59</td>\n",
       "      <td>NaN</td>\n",
       "      <td>NaN</td>\n",
       "      <td>NaN</td>\n",
       "      <td>NaN</td>\n",
       "      <td>NaN</td>\n",
       "      <td>NaN</td>\n",
       "      <td>NaN</td>\n",
       "      <td>NaN</td>\n",
       "      <td>NaN</td>\n",
       "      <td>...</td>\n",
       "      <td>NaN</td>\n",
       "      <td>NaN</td>\n",
       "      <td>NaN</td>\n",
       "      <td>NaN</td>\n",
       "      <td>NaN</td>\n",
       "      <td>NaN</td>\n",
       "      <td>NaN</td>\n",
       "      <td>NaN</td>\n",
       "      <td>NaN</td>\n",
       "      <td>NaN</td>\n",
       "    </tr>\n",
       "    <tr>\n",
       "      <th>1</th>\n",
       "      <td>10/17/2021 17:43:38</td>\n",
       "      <td>ไม่เคยซื้อ</td>\n",
       "      <td>ไม่เคยซื้อ</td>\n",
       "      <td>ไม่เคยซื้อ</td>\n",
       "      <td>ไม่เคยซื้อ</td>\n",
       "      <td>ไม่เคยซื้อ</td>\n",
       "      <td>ไม่เคยซื้อ</td>\n",
       "      <td>ไม่เคย</td>\n",
       "      <td>เคยซื้อ</td>\n",
       "      <td>เคยซื้อ</td>\n",
       "      <td>...</td>\n",
       "      <td>เคยซื้อ</td>\n",
       "      <td>ไม่เคยซื้อ</td>\n",
       "      <td>ไม่เคยซื้อ</td>\n",
       "      <td>ไม่เคยซื้อ</td>\n",
       "      <td>ไม่เคยซื้อ</td>\n",
       "      <td>เคยซื้อ</td>\n",
       "      <td>เคยซื้อ</td>\n",
       "      <td>ไม่เคยซื้อ</td>\n",
       "      <td>ไม่เคยซื้อ</td>\n",
       "      <td>ไม่เคยซื้อ</td>\n",
       "    </tr>\n",
       "    <tr>\n",
       "      <th>2</th>\n",
       "      <td>10/17/2021 17:43:41</td>\n",
       "      <td>ไม่เคยซื้อ</td>\n",
       "      <td>ไม่เคยซื้อ</td>\n",
       "      <td>ไม่เคยซื้อ</td>\n",
       "      <td>ไม่เคยซื้อ</td>\n",
       "      <td>ไม่เคยซื้อ</td>\n",
       "      <td>ไม่เคยซื้อ</td>\n",
       "      <td>ไม่เคย</td>\n",
       "      <td>ไม่เคยซื้อ</td>\n",
       "      <td>เคยซื้อ</td>\n",
       "      <td>...</td>\n",
       "      <td>ไม่เคยซื้อ</td>\n",
       "      <td>ไม่เคยซื้อ</td>\n",
       "      <td>เคยซื้อ</td>\n",
       "      <td>ไม่เคยซื้อ</td>\n",
       "      <td>ไม่เคยซื้อ</td>\n",
       "      <td>เคยซื้อ</td>\n",
       "      <td>เคยซื้อ</td>\n",
       "      <td>ไม่เคยซื้อ</td>\n",
       "      <td>ไม่เคยซื้อ</td>\n",
       "      <td>ไม่เคยซื้อ</td>\n",
       "    </tr>\n",
       "    <tr>\n",
       "      <th>3</th>\n",
       "      <td>10/17/2021 17:43:46</td>\n",
       "      <td>ไม่เคยซื้อ</td>\n",
       "      <td>ไม่เคยซื้อ</td>\n",
       "      <td>ไม่เคยซื้อ</td>\n",
       "      <td>เคยซื้อ</td>\n",
       "      <td>เคยซื้อ</td>\n",
       "      <td>ไม่เคยซื้อ</td>\n",
       "      <td>ไม่เคย</td>\n",
       "      <td>เคยซื้อ</td>\n",
       "      <td>เคยซื้อ</td>\n",
       "      <td>...</td>\n",
       "      <td>ไม่เคยซื้อ</td>\n",
       "      <td>เคยซื้อ</td>\n",
       "      <td>เคยซื้อ</td>\n",
       "      <td>ไม่เคยซื้อ</td>\n",
       "      <td>เคยซื้อ</td>\n",
       "      <td>เคยซื้อ</td>\n",
       "      <td>เคยซื้อ</td>\n",
       "      <td>เคยซื้อ</td>\n",
       "      <td>เคยซื้อ</td>\n",
       "      <td>เคยซื้อ</td>\n",
       "    </tr>\n",
       "    <tr>\n",
       "      <th>4</th>\n",
       "      <td>10/17/2021 17:43:49</td>\n",
       "      <td>ไม่เคยซื้อ</td>\n",
       "      <td>ไม่เคยซื้อ</td>\n",
       "      <td>ไม่เคยซื้อ</td>\n",
       "      <td>ไม่เคยซื้อ</td>\n",
       "      <td>ไม่เคยซื้อ</td>\n",
       "      <td>ไม่เคยซื้อ</td>\n",
       "      <td>ไม่เคย</td>\n",
       "      <td>ไม่เคยซื้อ</td>\n",
       "      <td>เคยซื้อ</td>\n",
       "      <td>...</td>\n",
       "      <td>ไม่เคยซื้อ</td>\n",
       "      <td>ไม่เคยซื้อ</td>\n",
       "      <td>เคยซื้อ</td>\n",
       "      <td>ไม่เคยซื้อ</td>\n",
       "      <td>ไม่เคยซื้อ</td>\n",
       "      <td>เคยซื้อ</td>\n",
       "      <td>เคยซื้อ</td>\n",
       "      <td>ไม่เคยซื้อ</td>\n",
       "      <td>ไม่เคยซื้อ</td>\n",
       "      <td>ไม่เคยซื้อ</td>\n",
       "    </tr>\n",
       "  </tbody>\n",
       "</table>\n",
       "<p>5 rows × 42 columns</p>\n",
       "</div>"
      ],
      "text/plain": [
       "             Timestamp playstation5 เครื่องทำขนมปัง Ergonomic Wrist Rest  \\\n",
       "0  10/17/2021 17:29:59          NaN             NaN                  NaN   \n",
       "1  10/17/2021 17:43:38   ไม่เคยซื้อ      ไม่เคยซื้อ           ไม่เคยซื้อ   \n",
       "2  10/17/2021 17:43:41   ไม่เคยซื้อ      ไม่เคยซื้อ           ไม่เคยซื้อ   \n",
       "3  10/17/2021 17:43:46   ไม่เคยซื้อ      ไม่เคยซื้อ           ไม่เคยซื้อ   \n",
       "4  10/17/2021 17:43:49   ไม่เคยซื้อ      ไม่เคยซื้อ           ไม่เคยซื้อ   \n",
       "\n",
       "  เครื่องอบผ้า เครื่องชงกาแฟแคปซูล เก้าอี้ LA-Z-Boy  \\\n",
       "0          NaN                 NaN              NaN   \n",
       "1   ไม่เคยซื้อ          ไม่เคยซื้อ       ไม่เคยซื้อ   \n",
       "2   ไม่เคยซื้อ          ไม่เคยซื้อ       ไม่เคยซื้อ   \n",
       "3      เคยซื้อ             เคยซื้อ       ไม่เคยซื้อ   \n",
       "4   ไม่เคยซื้อ          ไม่เคยซื้อ       ไม่เคยซื้อ   \n",
       "\n",
       "  เครื่องให้อาหารสัตว์อัตโนมัติ บัตตาเลี่ยน แก้วเก็บความเย็น  ...  \\\n",
       "0                           NaN         NaN              NaN  ...   \n",
       "1                        ไม่เคย     เคยซื้อ          เคยซื้อ  ...   \n",
       "2                        ไม่เคย  ไม่เคยซื้อ          เคยซื้อ  ...   \n",
       "3                        ไม่เคย     เคยซื้อ          เคยซื้อ  ...   \n",
       "4                        ไม่เคย  ไม่เคยซื้อ          เคยซื้อ  ...   \n",
       "\n",
       "  การ์ดจอ RTX 3080 ขนมจีนน้ำยาปู Salmon Sashimi จักรยานเสือหมอบ  \\\n",
       "0              NaN           NaN            NaN             NaN   \n",
       "1          เคยซื้อ    ไม่เคยซื้อ     ไม่เคยซื้อ      ไม่เคยซื้อ   \n",
       "2       ไม่เคยซื้อ    ไม่เคยซื้อ        เคยซื้อ      ไม่เคยซื้อ   \n",
       "3       ไม่เคยซื้อ       เคยซื้อ        เคยซื้อ      ไม่เคยซื้อ   \n",
       "4       ไม่เคยซื้อ    ไม่เคยซื้อ        เคยซื้อ      ไม่เคยซื้อ   \n",
       "\n",
       "  ไฟแต่งห้องมินิมอล External Harddisk หม้อทอดไร้น้ํามัน    airpods   \\\n",
       "0               NaN               NaN               NaN         NaN   \n",
       "1        ไม่เคยซื้อ           เคยซื้อ           เคยซื้อ  ไม่เคยซื้อ   \n",
       "2        ไม่เคยซื้อ           เคยซื้อ           เคยซื้อ  ไม่เคยซื้อ   \n",
       "3           เคยซื้อ           เคยซื้อ           เคยซื้อ     เคยซื้อ   \n",
       "4        ไม่เคยซื้อ           เคยซื้อ           เคยซื้อ  ไม่เคยซื้อ   \n",
       "\n",
       "         ยาดม ไฟส่องหน้าไลฟ์สด  \n",
       "0         NaN              NaN  \n",
       "1  ไม่เคยซื้อ       ไม่เคยซื้อ  \n",
       "2  ไม่เคยซื้อ       ไม่เคยซื้อ  \n",
       "3     เคยซื้อ          เคยซื้อ  \n",
       "4  ไม่เคยซื้อ       ไม่เคยซื้อ  \n",
       "\n",
       "[5 rows x 42 columns]"
      ]
     },
     "execution_count": 90,
     "metadata": {},
     "output_type": "execute_result"
    }
   ],
   "source": [
    "df.head(5)"
   ]
  },
  {
   "cell_type": "markdown",
   "metadata": {},
   "source": [
    "***"
   ]
  },
  {
   "cell_type": "code",
   "execution_count": 91,
   "metadata": {},
   "outputs": [
    {
     "name": "stdout",
     "output_type": "stream",
     "text": [
      "<class 'pandas.core.frame.DataFrame'>\n",
      "RangeIndex: 47 entries, 0 to 46\n",
      "Data columns (total 42 columns):\n",
      " #   Column                         Non-Null Count  Dtype \n",
      "---  ------                         --------------  ----- \n",
      " 0   Timestamp                      47 non-null     object\n",
      " 1   playstation5                   46 non-null     object\n",
      " 2   เครื่องทำขนมปัง                46 non-null     object\n",
      " 3   Ergonomic Wrist Rest           46 non-null     object\n",
      " 4   เครื่องอบผ้า                   46 non-null     object\n",
      " 5   เครื่องชงกาแฟแคปซูล            46 non-null     object\n",
      " 6   เก้าอี้ LA-Z-Boy               46 non-null     object\n",
      " 7   เครื่องให้อาหารสัตว์อัตโนมัติ  46 non-null     object\n",
      " 8   บัตตาเลี่ยน                    45 non-null     object\n",
      " 9   แก้วเก็บความเย็น               46 non-null     object\n",
      " 10  ลู่วิ่งออกกำลังกาย             46 non-null     object\n",
      " 11  Kindle                         46 non-null     object\n",
      " 12  เครื่องซักผ้า                  46 non-null     object\n",
      " 13  Bluetooth Speaker              46 non-null     object\n",
      " 14  ห้องน้ำแมวอัตโนมัติ            46 non-null     object\n",
      " 15  PS5                            46 non-null     object\n",
      " 16  ทรายแมว                        46 non-null     object\n",
      " 17  ลำโพง pixel                    46 non-null     object\n",
      " 18  Logitech Mx Master 3 Mouse     46 non-null     object\n",
      " 19  ตุ๊กตา ty                      46 non-null     object\n",
      " 20  น้ำพุแมว                       46 non-null     object\n",
      " 21  Robot ดูดฝุ่น                  46 non-null     object\n",
      " 22  Mechanical keyboard            45 non-null     object\n",
      " 23  Nintendo switch                45 non-null     object\n",
      " 24  หนังสือ python                 46 non-null     object\n",
      " 25  gaming chair                   45 non-null     object\n",
      " 26  Deskmat                        46 non-null     object\n",
      " 27  Dew - ไฟโรเซ่                  46 non-null     object\n",
      " 28  เทียนหอม jo malone             46 non-null     object\n",
      " 29  กระติกน้ำ 2 ลิตร               45 non-null     object\n",
      " 30  ที่นอน memory form             46 non-null     object\n",
      " 31  พลาสเตอร์บรรเทาปวด ตราเสือ     46 non-null     object\n",
      " 32  การ์ดจอ RTX 3080               46 non-null     object\n",
      " 33  ขนมจีนน้ำยาปู                  46 non-null     object\n",
      " 34  Salmon Sashimi                 46 non-null     object\n",
      " 35  จักรยานเสือหมอบ                46 non-null     object\n",
      " 36  ไฟแต่งห้องมินิมอล              45 non-null     object\n",
      " 37  External Harddisk              46 non-null     object\n",
      " 38  หม้อทอดไร้น้ํามัน              45 non-null     object\n",
      " 39  airpods                        46 non-null     object\n",
      " 40  ยาดม                           46 non-null     object\n",
      " 41  ไฟส่องหน้าไลฟ์สด               46 non-null     object\n",
      "dtypes: object(42)\n",
      "memory usage: 15.5+ KB\n"
     ]
    }
   ],
   "source": [
    "df.info()"
   ]
  },
  {
   "cell_type": "code",
   "execution_count": 92,
   "metadata": {},
   "outputs": [
    {
     "data": {
      "text/html": [
       "<div>\n",
       "<style scoped>\n",
       "    .dataframe tbody tr th:only-of-type {\n",
       "        vertical-align: middle;\n",
       "    }\n",
       "\n",
       "    .dataframe tbody tr th {\n",
       "        vertical-align: top;\n",
       "    }\n",
       "\n",
       "    .dataframe thead th {\n",
       "        text-align: right;\n",
       "    }\n",
       "</style>\n",
       "<table border=\"1\" class=\"dataframe\">\n",
       "  <thead>\n",
       "    <tr style=\"text-align: right;\">\n",
       "      <th></th>\n",
       "      <th>playstation5</th>\n",
       "      <th>เครื่องทำขนมปัง</th>\n",
       "      <th>Ergonomic Wrist Rest</th>\n",
       "      <th>เครื่องอบผ้า</th>\n",
       "      <th>เครื่องชงกาแฟแคปซูล</th>\n",
       "      <th>เก้าอี้ LA-Z-Boy</th>\n",
       "      <th>เครื่องให้อาหารสัตว์อัตโนมัติ</th>\n",
       "      <th>บัตตาเลี่ยน</th>\n",
       "      <th>แก้วเก็บความเย็น</th>\n",
       "      <th>ลู่วิ่งออกกำลังกาย</th>\n",
       "      <th>...</th>\n",
       "      <th>การ์ดจอ RTX 3080</th>\n",
       "      <th>ขนมจีนน้ำยาปู</th>\n",
       "      <th>Salmon Sashimi</th>\n",
       "      <th>จักรยานเสือหมอบ</th>\n",
       "      <th>ไฟแต่งห้องมินิมอล</th>\n",
       "      <th>External Harddisk</th>\n",
       "      <th>หม้อทอดไร้น้ํามัน</th>\n",
       "      <th>airpods</th>\n",
       "      <th>ยาดม</th>\n",
       "      <th>ไฟส่องหน้าไลฟ์สด</th>\n",
       "    </tr>\n",
       "  </thead>\n",
       "  <tbody>\n",
       "    <tr>\n",
       "      <th>0</th>\n",
       "      <td>0</td>\n",
       "      <td>0</td>\n",
       "      <td>0</td>\n",
       "      <td>0</td>\n",
       "      <td>0</td>\n",
       "      <td>0</td>\n",
       "      <td>0</td>\n",
       "      <td>0</td>\n",
       "      <td>0</td>\n",
       "      <td>0</td>\n",
       "      <td>...</td>\n",
       "      <td>0</td>\n",
       "      <td>0</td>\n",
       "      <td>0</td>\n",
       "      <td>0</td>\n",
       "      <td>0</td>\n",
       "      <td>0</td>\n",
       "      <td>0</td>\n",
       "      <td>0</td>\n",
       "      <td>0</td>\n",
       "      <td>0</td>\n",
       "    </tr>\n",
       "    <tr>\n",
       "      <th>1</th>\n",
       "      <td>0</td>\n",
       "      <td>0</td>\n",
       "      <td>0</td>\n",
       "      <td>0</td>\n",
       "      <td>0</td>\n",
       "      <td>0</td>\n",
       "      <td>0</td>\n",
       "      <td>1</td>\n",
       "      <td>1</td>\n",
       "      <td>0</td>\n",
       "      <td>...</td>\n",
       "      <td>1</td>\n",
       "      <td>0</td>\n",
       "      <td>0</td>\n",
       "      <td>0</td>\n",
       "      <td>0</td>\n",
       "      <td>1</td>\n",
       "      <td>1</td>\n",
       "      <td>0</td>\n",
       "      <td>0</td>\n",
       "      <td>0</td>\n",
       "    </tr>\n",
       "    <tr>\n",
       "      <th>2</th>\n",
       "      <td>0</td>\n",
       "      <td>0</td>\n",
       "      <td>0</td>\n",
       "      <td>0</td>\n",
       "      <td>0</td>\n",
       "      <td>0</td>\n",
       "      <td>0</td>\n",
       "      <td>0</td>\n",
       "      <td>1</td>\n",
       "      <td>0</td>\n",
       "      <td>...</td>\n",
       "      <td>0</td>\n",
       "      <td>0</td>\n",
       "      <td>1</td>\n",
       "      <td>0</td>\n",
       "      <td>0</td>\n",
       "      <td>1</td>\n",
       "      <td>1</td>\n",
       "      <td>0</td>\n",
       "      <td>0</td>\n",
       "      <td>0</td>\n",
       "    </tr>\n",
       "    <tr>\n",
       "      <th>3</th>\n",
       "      <td>0</td>\n",
       "      <td>0</td>\n",
       "      <td>0</td>\n",
       "      <td>1</td>\n",
       "      <td>1</td>\n",
       "      <td>0</td>\n",
       "      <td>0</td>\n",
       "      <td>1</td>\n",
       "      <td>1</td>\n",
       "      <td>1</td>\n",
       "      <td>...</td>\n",
       "      <td>0</td>\n",
       "      <td>1</td>\n",
       "      <td>1</td>\n",
       "      <td>0</td>\n",
       "      <td>1</td>\n",
       "      <td>1</td>\n",
       "      <td>1</td>\n",
       "      <td>1</td>\n",
       "      <td>1</td>\n",
       "      <td>1</td>\n",
       "    </tr>\n",
       "    <tr>\n",
       "      <th>4</th>\n",
       "      <td>0</td>\n",
       "      <td>0</td>\n",
       "      <td>0</td>\n",
       "      <td>0</td>\n",
       "      <td>0</td>\n",
       "      <td>0</td>\n",
       "      <td>0</td>\n",
       "      <td>0</td>\n",
       "      <td>1</td>\n",
       "      <td>0</td>\n",
       "      <td>...</td>\n",
       "      <td>0</td>\n",
       "      <td>0</td>\n",
       "      <td>1</td>\n",
       "      <td>0</td>\n",
       "      <td>0</td>\n",
       "      <td>1</td>\n",
       "      <td>1</td>\n",
       "      <td>0</td>\n",
       "      <td>0</td>\n",
       "      <td>0</td>\n",
       "    </tr>\n",
       "  </tbody>\n",
       "</table>\n",
       "<p>5 rows × 40 columns</p>\n",
       "</div>"
      ],
      "text/plain": [
       "   playstation5  เครื่องทำขนมปัง  Ergonomic Wrist Rest  เครื่องอบผ้า  \\\n",
       "0             0                0                     0             0   \n",
       "1             0                0                     0             0   \n",
       "2             0                0                     0             0   \n",
       "3             0                0                     0             1   \n",
       "4             0                0                     0             0   \n",
       "\n",
       "   เครื่องชงกาแฟแคปซูล  เก้าอี้ LA-Z-Boy  เครื่องให้อาหารสัตว์อัตโนมัติ  \\\n",
       "0                    0                 0                              0   \n",
       "1                    0                 0                              0   \n",
       "2                    0                 0                              0   \n",
       "3                    1                 0                              0   \n",
       "4                    0                 0                              0   \n",
       "\n",
       "   บัตตาเลี่ยน  แก้วเก็บความเย็น  ลู่วิ่งออกกำลังกาย  ...  การ์ดจอ RTX 3080  \\\n",
       "0            0                 0                   0  ...                 0   \n",
       "1            1                 1                   0  ...                 1   \n",
       "2            0                 1                   0  ...                 0   \n",
       "3            1                 1                   1  ...                 0   \n",
       "4            0                 1                   0  ...                 0   \n",
       "\n",
       "   ขนมจีนน้ำยาปู  Salmon Sashimi  จักรยานเสือหมอบ  ไฟแต่งห้องมินิมอล  \\\n",
       "0              0               0                0                  0   \n",
       "1              0               0                0                  0   \n",
       "2              0               1                0                  0   \n",
       "3              1               1                0                  1   \n",
       "4              0               1                0                  0   \n",
       "\n",
       "   External Harddisk  หม้อทอดไร้น้ํามัน  airpods   ยาดม  ไฟส่องหน้าไลฟ์สด  \n",
       "0                  0                  0         0     0                 0  \n",
       "1                  1                  1         0     0                 0  \n",
       "2                  1                  1         0     0                 0  \n",
       "3                  1                  1         1     1                 1  \n",
       "4                  1                  1         0     0                 0  \n",
       "\n",
       "[5 rows x 40 columns]"
      ]
     },
     "execution_count": 92,
     "metadata": {},
     "output_type": "execute_result"
    }
   ],
   "source": [
    "def CatEncode(d):\n",
    "    if str(d).find('ไม่') >= 0: output = 0\n",
    "    elif str(d).find('เคย') >= 0: output = 1\n",
    "    else: output = 0\n",
    "    return output\n",
    "\n",
    "df2 = df.fillna(0).drop(['PS5', 'Timestamp'], axis=1)\n",
    "for col in df2.columns:\n",
    "    df2[col] = df2.apply(lambda x: cleanfunction(x[col]), axis=1)\n",
    "\n",
    "df2.head()"
   ]
  },
  {
   "cell_type": "markdown",
   "metadata": {},
   "source": [
    "***"
   ]
  },
  {
   "cell_type": "code",
   "execution_count": 93,
   "metadata": {
    "colab": {
     "base_uri": "https://localhost:8080/",
     "height": 103
    },
    "colab_type": "code",
    "executionInfo": {
     "elapsed": 1034,
     "status": "ok",
     "timestamp": 1543651733931,
     "user": {
      "displayName": "Thanachart Ritbumroong",
      "photoUrl": "",
      "userId": "18414212507793256437"
     },
     "user_tz": -420
    },
    "id": "qvtQIJyXanKL",
    "outputId": "f8acfc57-a163-4f92-adbf-3f90427c0859"
   },
   "outputs": [
    {
     "name": "stdout",
     "output_type": "stream",
     "text": [
      "playstation5                     0\n",
      "เครื่องทำขนมปัง                  0\n",
      "Ergonomic Wrist Rest             0\n",
      "เครื่องอบผ้า                     0\n",
      "เครื่องชงกาแฟแคปซูล              0\n",
      "เก้าอี้ LA-Z-Boy                 0\n",
      "เครื่องให้อาหารสัตว์อัตโนมัติ    0\n",
      "บัตตาเลี่ยน                      0\n",
      "แก้วเก็บความเย็น                 0\n",
      "ลู่วิ่งออกกำลังกาย               0\n",
      "Kindle                           0\n",
      "เครื่องซักผ้า                    0\n",
      "Bluetooth Speaker                0\n",
      "ห้องน้ำแมวอัตโนมัติ              0\n",
      "ทรายแมว                          0\n",
      "ลำโพง pixel                      0\n",
      "Logitech Mx Master 3 Mouse       0\n",
      "ตุ๊กตา ty                        0\n",
      "น้ำพุแมว                         0\n",
      "Robot ดูดฝุ่น                    0\n",
      "Mechanical keyboard              0\n",
      "Nintendo switch                  0\n",
      "หนังสือ python                   0\n",
      "gaming chair                     0\n",
      "Deskmat                          0\n",
      "Dew - ไฟโรเซ่                    0\n",
      "เทียนหอม jo malone               0\n",
      "กระติกน้ำ 2 ลิตร                 0\n",
      "ที่นอน memory form               0\n",
      "พลาสเตอร์บรรเทาปวด ตราเสือ       0\n",
      "การ์ดจอ RTX 3080                 0\n",
      "ขนมจีนน้ำยาปู                    0\n",
      "Salmon Sashimi                   0\n",
      "จักรยานเสือหมอบ                  0\n",
      "ไฟแต่งห้องมินิมอล                0\n",
      "External Harddisk                0\n",
      "หม้อทอดไร้น้ํามัน                0\n",
      "airpods                          0\n",
      "ยาดม                             0\n",
      "ไฟส่องหน้าไลฟ์สด                 0\n",
      "dtype: int64\n"
     ]
    }
   ],
   "source": [
    "missing = df2.isnull().sum()\n",
    "print(missing)"
   ]
  },
  {
   "cell_type": "code",
   "execution_count": null,
   "metadata": {
    "colab": {},
    "colab_type": "code",
    "id": "NDguvzrEbVWJ"
   },
   "outputs": [],
   "source": [
    "from mlxtend.frequent_patterns import apriori\n",
    "from mlxtend.frequent_patterns import association_rules\n",
    "\n",
    "#frequent_itemsets = apriori(hot_encoded_df, min_support=0.01, use_colnames=True)\n",
    "frequent_itemsets = apriori(df2, min_support=0.01, use_colnames=True)"
   ]
  },
  {
   "cell_type": "code",
   "execution_count": null,
   "metadata": {
    "colab": {
     "base_uri": "https://localhost:8080/",
     "height": 357
    },
    "colab_type": "code",
    "executionInfo": {
     "elapsed": 1039,
     "status": "ok",
     "timestamp": 1543544602064,
     "user": {
      "displayName": "Thanachart Ritbumroong",
      "photoUrl": "",
      "userId": "18414212507793256437"
     },
     "user_tz": -420
    },
    "id": "zHiSL7fZbXLw",
    "outputId": "617519f9-eb44-4025-f51e-4a1a603c031f"
   },
   "outputs": [],
   "source": [
    "rules = association_rules(frequent_itemsets, metric=\"lift\", min_threshold=1)\n",
    "rules.head(10)"
   ]
  },
  {
   "cell_type": "code",
   "execution_count": null,
   "metadata": {
    "colab": {
     "base_uri": "https://localhost:8080/",
     "height": 388
    },
    "colab_type": "code",
    "executionInfo": {
     "elapsed": 860,
     "status": "ok",
     "timestamp": 1543544610765,
     "user": {
      "displayName": "Thanachart Ritbumroong",
      "photoUrl": "",
      "userId": "18414212507793256437"
     },
     "user_tz": -420
    },
    "id": "u87ulTasbZYb",
    "outputId": "21f0952b-58f6-4f14-d069-039df7fb879a"
   },
   "outputs": [],
   "source": [
    "rules[ (rules['lift'] >= 1) &\n",
    "       (rules['confidence'] >= 0.5) ]"
   ]
  },
  {
   "cell_type": "code",
   "execution_count": null,
   "metadata": {
    "colab": {
     "base_uri": "https://localhost:8080/",
     "height": 265
    },
    "colab_type": "code",
    "executionInfo": {
     "elapsed": 1110,
     "status": "ok",
     "timestamp": 1543544645517,
     "user": {
      "displayName": "Thanachart Ritbumroong",
      "photoUrl": "",
      "userId": "18414212507793256437"
     },
     "user_tz": -420
    },
    "id": "82NvGkwFbbuM",
    "outputId": "8a9c9f19-4cc9-47f1-9397-0c2d327b0be2"
   },
   "outputs": [],
   "source": [
    "import matplotlib.pyplot as plt\n",
    "import networkx as nx\n",
    "\n",
    "fig, ax=plt.subplots(figsize=(10,4))\n",
    "GA=nx.from_pandas_edgelist(rules,source='antecedents',target='consequents')\n",
    "nx.draw(GA,with_labels=True)\n",
    "plt.show()"
   ]
  },
  {
   "cell_type": "code",
   "execution_count": null,
   "metadata": {
    "colab": {},
    "colab_type": "code",
    "id": "9yrfvS_kbkBX"
   },
   "outputs": [],
   "source": [
    "item_item_matrix = pd.DataFrame(index=hot_encoded_df.columns,columns=hot_encoded_df.columns)"
   ]
  },
  {
   "cell_type": "code",
   "execution_count": null,
   "metadata": {
    "colab": {},
    "colab_type": "code",
    "id": "nJdnj17aboo3"
   },
   "outputs": [],
   "source": [
    "from scipy.spatial.distance import cosine\n",
    "\n",
    "for i in range(0,len(item_item_matrix.columns)) :\n",
    "    # Loop through the columns for each column\n",
    "    for j in range(0,len(item_item_matrix.columns)) :\n",
    "      # Fill in placeholder with cosine similarities\n",
    "      item_item_matrix.iloc[i,j] = 1 -cosine(hot_encoded_df.iloc[:,i],hot_encoded_df.iloc[:,j])"
   ]
  },
  {
   "cell_type": "code",
   "execution_count": null,
   "metadata": {
    "colab": {},
    "colab_type": "code",
    "id": "MFIvsFxPbrQJ"
   },
   "outputs": [],
   "source": [
    "links = item_item_matrix.rename_axis('related item', \n",
    "                                     axis='columns').stack().reset_index()\n",
    "links.columns = ['item', 'related item','value']"
   ]
  },
  {
   "cell_type": "code",
   "execution_count": null,
   "metadata": {
    "colab": {},
    "colab_type": "code",
    "id": "kovcaz5vbs6i"
   },
   "outputs": [],
   "source": [
    "links_filtered=links.loc[ (links['value'] > 0.1) & \n",
    "                         (links['item'] != links['related item']) ]"
   ]
  },
  {
   "cell_type": "code",
   "execution_count": null,
   "metadata": {
    "colab": {
     "base_uri": "https://localhost:8080/",
     "height": 265
    },
    "colab_type": "code",
    "executionInfo": {
     "elapsed": 1595,
     "status": "ok",
     "timestamp": 1543544708728,
     "user": {
      "displayName": "Thanachart Ritbumroong",
      "photoUrl": "",
      "userId": "18414212507793256437"
     },
     "user_tz": -420
    },
    "id": "fkxrqyMVbvWx",
    "outputId": "738d14e4-4ad9-4b39-bb57-fdec9a44a923"
   },
   "outputs": [],
   "source": [
    "import matplotlib.pyplot as plt\n",
    "import networkx as nx\n",
    "\n",
    "fig, ax=plt.subplots(figsize=(10,4))\n",
    "GA=nx.from_pandas_edgelist(links_filtered,source='item',target='related item')\n",
    "nx.draw(GA,with_labels=True)\n",
    "plt.show()"
   ]
  }
 ],
 "metadata": {
  "colab": {
   "name": "Product Recommendation",
   "provenance": [],
   "version": "0.3.2"
  },
  "kernelspec": {
   "display_name": "Python 3 (ipykernel)",
   "language": "python",
   "name": "python3"
  },
  "language_info": {
   "codemirror_mode": {
    "name": "ipython",
    "version": 3
   },
   "file_extension": ".py",
   "mimetype": "text/x-python",
   "name": "python",
   "nbconvert_exporter": "python",
   "pygments_lexer": "ipython3",
   "version": "3.9.5"
  }
 },
 "nbformat": 4,
 "nbformat_minor": 1
}
